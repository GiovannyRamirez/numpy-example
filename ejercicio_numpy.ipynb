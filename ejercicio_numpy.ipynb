{
  "nbformat": 4,
  "nbformat_minor": 0,
  "metadata": {
    "colab": {
      "provenance": []
    },
    "kernelspec": {
      "name": "python3",
      "display_name": "Python 3"
    },
    "language_info": {
      "name": "python"
    }
  },
  "cells": [
    {
      "cell_type": "code",
      "source": [
        "import numpy as np\n"
      ],
      "metadata": {
        "id": "jZSACROj7Bn_"
      },
      "execution_count": 3,
      "outputs": []
    },
    {
      "cell_type": "markdown",
      "source": [
        "Generación edades"
      ],
      "metadata": {
        "id": "VvQ06HuM7JiG"
      }
    },
    {
      "cell_type": "code",
      "execution_count": 8,
      "metadata": {
        "colab": {
          "base_uri": "https://localhost:8080/"
        },
        "id": "QIq5UAXd6KyD",
        "outputId": "cea7b027-71ad-4e56-9708-b6f367f852d5"
      },
      "outputs": [
        {
          "output_type": "execute_result",
          "data": {
            "text/plain": [
              "array([[23., 45., 42.],\n",
              "       [39., 31., 29.],\n",
              "       [49., 26., 35.]])"
            ]
          },
          "metadata": {},
          "execution_count": 8
        }
      ],
      "source": [
        "edades = np.random.uniform(\n",
        "    size = (3, 3),\n",
        "    low = 20,\n",
        "    high = 50\n",
        ")\n",
        "edades = np.around(edades)\n",
        "edades"
      ]
    },
    {
      "cell_type": "markdown",
      "source": [
        "Generación ingresos"
      ],
      "metadata": {
        "id": "t4mjXlhA7tH4"
      }
    },
    {
      "cell_type": "code",
      "source": [
        "ingresos = np.random.uniform(\n",
        "    size = (3, 3),\n",
        "    low = 2000,\n",
        "    high = 5000\n",
        ")\n",
        "ingresos = np.around(ingresos)\n",
        "ingresos"
      ],
      "metadata": {
        "colab": {
          "base_uri": "https://localhost:8080/"
        },
        "id": "MdxjBEIN7wKp",
        "outputId": "3c10ef4d-00aa-4465-8a5e-ea0d8a70d981"
      },
      "execution_count": 9,
      "outputs": [
        {
          "output_type": "execute_result",
          "data": {
            "text/plain": [
              "array([[4514., 3241., 3054.],\n",
              "       [4210., 2514., 2387.],\n",
              "       [4050., 4424., 3108.]])"
            ]
          },
          "metadata": {},
          "execution_count": 9
        }
      ]
    },
    {
      "cell_type": "markdown",
      "source": [
        "Unir data"
      ],
      "metadata": {
        "id": "DU8EJ4ve76fp"
      }
    },
    {
      "cell_type": "code",
      "source": [
        "reshape_edades = edades.reshape(9)\n",
        "reshape_ingresos = ingresos.reshape(9)\n",
        "\n",
        "edades_ingresos = np.column_stack((reshape_edades, reshape_ingresos))\n",
        "display(\n",
        "    edades_ingresos,\n",
        "    edades_ingresos.shape\n",
        ")"
      ],
      "metadata": {
        "colab": {
          "base_uri": "https://localhost:8080/",
          "height": 202
        },
        "id": "V0DLgNsx8AHS",
        "outputId": "8d72583d-0334-4af3-c0af-65a73f0c8f55"
      },
      "execution_count": 36,
      "outputs": [
        {
          "output_type": "display_data",
          "data": {
            "text/plain": [
              "array([[  23., 4514.],\n",
              "       [  45., 3241.],\n",
              "       [  42., 3054.],\n",
              "       [  39., 4210.],\n",
              "       [  31., 2514.],\n",
              "       [  29., 2387.],\n",
              "       [  49., 4050.],\n",
              "       [  26., 4424.],\n",
              "       [  35., 3108.]])"
            ]
          },
          "metadata": {}
        },
        {
          "output_type": "display_data",
          "data": {
            "text/plain": [
              "(9, 2)"
            ]
          },
          "metadata": {}
        }
      ]
    },
    {
      "cell_type": "markdown",
      "source": [
        "Filtrar datos entre [20,  30] años y [2000, 5000] de ingresos"
      ],
      "metadata": {
        "id": "I41g49SL-LfH"
      }
    },
    {
      "cell_type": "code",
      "source": [
        "min_edades_permitidas = reshape_edades >= 20\n",
        "max_edades_permitidas = reshape_edades <= 30\n",
        "edades_permitidas = np.logical_and(min_edades_permitidas, max_edades_permitidas)\n",
        "\n",
        "display(\n",
        "    reshape_edades,\n",
        "    edades_permitidas,\n",
        "    reshape_edades[edades_permitidas]\n",
        ")"
      ],
      "metadata": {
        "colab": {
          "base_uri": "https://localhost:8080/",
          "height": 72
        },
        "id": "30Tl5LXX-Xc_",
        "outputId": "b3d4f355-3135-487d-a527-fda1ec4d5a1a"
      },
      "execution_count": 63,
      "outputs": [
        {
          "output_type": "display_data",
          "data": {
            "text/plain": [
              "array([23., 45., 42., 39., 31., 29., 49., 26., 35.])"
            ]
          },
          "metadata": {}
        },
        {
          "output_type": "display_data",
          "data": {
            "text/plain": [
              "array([ True, False, False, False, False,  True, False,  True, False])"
            ]
          },
          "metadata": {}
        },
        {
          "output_type": "display_data",
          "data": {
            "text/plain": [
              "array([23., 29., 26.])"
            ]
          },
          "metadata": {}
        }
      ]
    },
    {
      "cell_type": "markdown",
      "source": [
        "Filtrar datos entre [2000, 5000] de ingresos"
      ],
      "metadata": {
        "id": "PihsL6sAIV0j"
      }
    },
    {
      "cell_type": "code",
      "source": [
        "min_ingresos_permitidos = reshape_ingresos >= 2000\n",
        "max_ingresos_permitidos = reshape_ingresos <= 5000\n",
        "ingresos_permitidos = np.logical_and(min_ingresos_permitidos, max_ingresos_permitidos)\n",
        "\n",
        "display(\n",
        "    reshape_ingresos,\n",
        "    ingresos_permitidos,\n",
        "    reshape_ingresos[ingresos_permitidos]\n",
        ")"
      ],
      "metadata": {
        "colab": {
          "base_uri": "https://localhost:8080/",
          "height": 72
        },
        "id": "vXuS5ZAb7Ikv",
        "outputId": "284bfa82-1160-4c1a-81c1-b5feb41a08b4"
      },
      "execution_count": 64,
      "outputs": [
        {
          "output_type": "display_data",
          "data": {
            "text/plain": [
              "array([4514., 3241., 3054., 4210., 2514., 2387., 4050., 4424., 3108.])"
            ]
          },
          "metadata": {}
        },
        {
          "output_type": "display_data",
          "data": {
            "text/plain": [
              "array([ True,  True,  True,  True,  True,  True,  True,  True,  True])"
            ]
          },
          "metadata": {}
        },
        {
          "output_type": "display_data",
          "data": {
            "text/plain": [
              "array([4514., 3241., 3054., 4210., 2514., 2387., 4050., 4424., 3108.])"
            ]
          },
          "metadata": {}
        }
      ]
    },
    {
      "cell_type": "markdown",
      "source": [
        "AND lógico para cumplir ambas condiciones"
      ],
      "metadata": {
        "id": "Ww0AmDQMJP5s"
      }
    },
    {
      "cell_type": "code",
      "source": [
        "permitidos = np.logical_and(edades_permitidas, ingresos_permitidos)\n",
        "display(permitidos)"
      ],
      "metadata": {
        "colab": {
          "base_uri": "https://localhost:8080/",
          "height": 35
        },
        "id": "7ClZ3GszIwos",
        "outputId": "5cb8c8d0-29c2-4bed-bf5d-192f965e5b4a"
      },
      "execution_count": 65,
      "outputs": [
        {
          "output_type": "display_data",
          "data": {
            "text/plain": [
              "array([ True, False, False, False, False,  True, False,  True, False])"
            ]
          },
          "metadata": {}
        }
      ]
    },
    {
      "cell_type": "markdown",
      "source": [
        "Obtener datos del arreglo original donde se cumplan las condiciones anteriores"
      ],
      "metadata": {
        "id": "EYdQVzpgJXR0"
      }
    },
    {
      "cell_type": "code",
      "source": [
        "edades_ingresos_permitidos = edades_ingresos[permitidos]\n",
        "\n",
        "display(\n",
        "    edades_ingresos,\n",
        "    edades_ingresos_permitidos\n",
        ")"
      ],
      "metadata": {
        "colab": {
          "base_uri": "https://localhost:8080/",
          "height": 238
        },
        "id": "ecQfnAT1IdEC",
        "outputId": "b231edc4-560a-4044-964d-c4a8b3f9489e"
      },
      "execution_count": 67,
      "outputs": [
        {
          "output_type": "display_data",
          "data": {
            "text/plain": [
              "array([[  23., 4514.],\n",
              "       [  45., 3241.],\n",
              "       [  42., 3054.],\n",
              "       [  39., 4210.],\n",
              "       [  31., 2514.],\n",
              "       [  29., 2387.],\n",
              "       [  49., 4050.],\n",
              "       [  26., 4424.],\n",
              "       [  35., 3108.]])"
            ]
          },
          "metadata": {}
        },
        {
          "output_type": "display_data",
          "data": {
            "text/plain": [
              "array([[  23., 4514.],\n",
              "       [  29., 2387.],\n",
              "       [  26., 4424.]])"
            ]
          },
          "metadata": {}
        }
      ]
    }
  ]
}